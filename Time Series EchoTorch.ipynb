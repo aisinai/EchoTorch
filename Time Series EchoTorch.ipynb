{
 "cells": [
  {
   "cell_type": "markdown",
   "metadata": {},
   "source": [
    "# Time Series Prediction With EchoTorch"
   ]
  },
  {
   "cell_type": "markdown",
   "metadata": {},
   "source": [
    "## Import All Dependencies"
   ]
  },
  {
   "cell_type": "code",
   "execution_count": 25,
   "metadata": {},
   "outputs": [],
   "source": [
    "# !pip install EchoTorch\n",
    "# !pip install mdp\n",
    "# !pip install scipy\n",
    "# !pip install sklearn"
   ]
  },
  {
   "cell_type": "code",
   "execution_count": 17,
   "metadata": {},
   "outputs": [],
   "source": [
    "import torch\n",
    "from echotorch.datasets.NARMADataset import NARMADataset\n",
    "import echotorch.nn as etnn\n",
    "import echotorch.utils\n",
    "from torch.autograd import Variable\n",
    "from torch.utils.data.dataloader import DataLoader\n",
    "import numpy as np\n",
    "import mdp"
   ]
  },
  {
   "cell_type": "markdown",
   "metadata": {},
   "source": [
    "## Set Hyper Parameters"
   ]
  },
  {
   "cell_type": "code",
   "execution_count": 18,
   "metadata": {},
   "outputs": [],
   "source": [
    "train_sample_length = 5000\n",
    "test_sample_length = 1000\n",
    "n_train_samples = 1\n",
    "n_test_samples = 1\n",
    "batch_size = 1\n",
    "spectral_radius = 0.9\n",
    "leaky_rate = 1.0\n",
    "input_dim = 1\n",
    "n_hidden = 100"
   ]
  },
  {
   "cell_type": "markdown",
   "metadata": {},
   "source": [
    "### Set Seed and GPU Usage"
   ]
  },
  {
   "cell_type": "code",
   "execution_count": 19,
   "metadata": {},
   "outputs": [
    {
     "data": {
      "text/plain": [
       "<torch._C.Generator at 0x7f4e8c41e2d0>"
      ]
     },
     "execution_count": 19,
     "metadata": {},
     "output_type": "execute_result"
    }
   ],
   "source": [
    "# Use CUDA?\n",
    "use_cuda = False\n",
    "use_cuda = torch.cuda.is_available() if use_cuda else False\n",
    "\n",
    "# Manual seed\n",
    "mdp.numx.random.seed(1)\n",
    "np.random.seed(2)\n",
    "torch.manual_seed(1)"
   ]
  },
  {
   "cell_type": "markdown",
   "metadata": {},
   "source": [
    "### Load the Dataset"
   ]
  },
  {
   "cell_type": "code",
   "execution_count": 20,
   "metadata": {},
   "outputs": [],
   "source": [
    "# NARMA30 dataset\n",
    "narma10_train_dataset = NARMADataset(train_sample_length, n_train_samples, system_order=10, seed=1)\n",
    "narma10_test_dataset = NARMADataset(test_sample_length, n_test_samples, system_order=10, seed=10)\n",
    "\n",
    "# Data loader\n",
    "trainloader = DataLoader(narma10_train_dataset, batch_size=batch_size, shuffle=False, num_workers=2)\n",
    "testloader = DataLoader(narma10_test_dataset, batch_size=batch_size, shuffle=False, num_workers=2)"
   ]
  },
  {
   "cell_type": "markdown",
   "metadata": {},
   "source": [
    "### Define the Hidden Network"
   ]
  },
  {
   "cell_type": "code",
   "execution_count": 21,
   "metadata": {},
   "outputs": [],
   "source": [
    "# ESN cell\n",
    "esn = etnn.LiESN(input_dim=input_dim, hidden_dim=n_hidden, output_dim=1, spectral_radius=spectral_radius, learning_algo='inv', leaky_rate=leaky_rate)\n",
    "if use_cuda:\n",
    "    esn.cuda()\n",
    "# end if"
   ]
  },
  {
   "cell_type": "markdown",
   "metadata": {},
   "source": [
    "## Train the Network"
   ]
  },
  {
   "cell_type": "code",
   "execution_count": 22,
   "metadata": {},
   "outputs": [],
   "source": [
    "# For each batch\n",
    "for data in trainloader:\n",
    "    # Inputs and outputs\n",
    "    inputs, targets = data\n",
    "\n",
    "    # To variable\n",
    "    inputs, targets = Variable(inputs), Variable(targets)\n",
    "    if use_cuda: inputs, targets = inputs.cuda(), targets.cuda()\n",
    "\n",
    "    # Accumulate xTx and xTy\n",
    "    esn(inputs, targets)\n",
    "# end for\n",
    "\n",
    "# Finalize training\n",
    "esn.finalize()"
   ]
  },
  {
   "cell_type": "markdown",
   "metadata": {},
   "source": [
    "## Get MSE"
   ]
  },
  {
   "cell_type": "code",
   "execution_count": 23,
   "metadata": {},
   "outputs": [
    {
     "name": "stdout",
     "output_type": "stream",
     "text": [
      "Train MSE: 0.004655277822166681\n",
      "Test NRMSE: 0.6365268862860002\n",
      "\n"
     ]
    }
   ],
   "source": [
    "# Train MSE\n",
    "dataiter = iter(trainloader)\n",
    "train_u, train_y = dataiter.next()\n",
    "train_u, train_y = Variable(train_u), Variable(train_y)\n",
    "if use_cuda: train_u, train_y = train_u.cuda(), train_y.cuda()\n",
    "y_predicted = esn(train_u)\n",
    "print(u\"Train MSE: {}\".format(echotorch.utils.mse(y_predicted.data, train_y.data)))\n",
    "print(u\"Test NRMSE: {}\".format(echotorch.utils.nrmse(y_predicted.data, train_y.data)))\n",
    "print(u\"\")"
   ]
  },
  {
   "cell_type": "code",
   "execution_count": 24,
   "metadata": {},
   "outputs": [
    {
     "name": "stdout",
     "output_type": "stream",
     "text": [
      "Test MSE: 0.005629844963550568\n",
      "Test NRMSE: 0.683688674875532\n",
      "\n"
     ]
    }
   ],
   "source": [
    "# Test MSE\n",
    "dataiter = iter(testloader)\n",
    "test_u, test_y = dataiter.next()\n",
    "test_u, test_y = Variable(test_u), Variable(test_y)\n",
    "if use_cuda: test_u, test_y = test_u.cuda(), test_y.cuda()\n",
    "y_predicted = esn(test_u)\n",
    "print(u\"Test MSE: {}\".format(echotorch.utils.mse(y_predicted.data, test_y.data)))\n",
    "print(u\"Test NRMSE: {}\".format(echotorch.utils.nrmse(y_predicted.data, test_y.data)))\n",
    "print(u\"\")"
   ]
  }
 ],
 "metadata": {
  "kernelspec": {
   "display_name": "EchoTorch",
   "language": "python",
   "name": "echotorch"
  },
  "language_info": {
   "codemirror_mode": {
    "name": "ipython",
    "version": 3
   },
   "file_extension": ".py",
   "mimetype": "text/x-python",
   "name": "python",
   "nbconvert_exporter": "python",
   "pygments_lexer": "ipython3",
   "version": "3.7.6"
  }
 },
 "nbformat": 4,
 "nbformat_minor": 4
}
