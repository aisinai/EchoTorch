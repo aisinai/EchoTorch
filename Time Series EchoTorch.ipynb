{
 "cells": [
  {
   "cell_type": "markdown",
   "metadata": {},
   "source": [
    "# Time Series Prediction With EchoTorch"
   ]
  },
  {
   "cell_type": "markdown",
   "metadata": {},
   "source": [
    "## Import All Dependencies"
   ]
  },
  {
   "cell_type": "code",
   "execution_count": 2,
   "metadata": {},
   "outputs": [],
   "source": [
    "# !pip install EchoTorch\n",
    "# !pip install mdp\n",
    "# !pip install scipy\n",
    "# !pip install sklearn"
   ]
  },
  {
   "cell_type": "code",
   "execution_count": 1,
   "metadata": {},
   "outputs": [],
   "source": [
    "import torch\n",
    "import torch.optim as optim\n",
    "from echotorch.datasets.NARMADataset import NARMADataset\n",
    "import echotorch.nn as etnn\n",
    "import echotorch.utils\n",
    "import torch.nn as nn\n",
    "from torch.autograd import Variable\n",
    "from torch.utils.data.dataloader import DataLoader\n",
    "import numpy as np\n",
    "import mdp\n",
    "import matplotlib.pyplot as plt"
   ]
  },
  {
   "cell_type": "markdown",
   "metadata": {},
   "source": [
    "## Set Hyper Parameters"
   ]
  },
  {
   "cell_type": "code",
   "execution_count": 2,
   "metadata": {},
   "outputs": [],
   "source": [
    "# Dataset params\n",
    "train_sample_length = 5000\n",
    "test_sample_length = 1000\n",
    "n_train_samples = 1\n",
    "n_test_samples = 1\n",
    "batch_size = 1\n",
    "spectral_radius = 0.9\n",
    "leaky_rate = 1.0\n",
    "input_dim = 1\n",
    "n_hidden = 100\n",
    "\n",
    "# Use CUDA?\n",
    "use_cuda = False\n",
    "use_cuda = torch.cuda.is_available() if use_cuda else False"
   ]
  },
  {
   "cell_type": "markdown",
   "metadata": {},
   "source": [
    "### Set Seed and GPU Usage"
   ]
  },
  {
   "cell_type": "code",
   "execution_count": 3,
   "metadata": {},
   "outputs": [
    {
     "data": {
      "text/plain": [
       "<torch._C.Generator at 0x7fb90412e430>"
      ]
     },
     "execution_count": 3,
     "metadata": {},
     "output_type": "execute_result"
    }
   ],
   "source": [
    "# Manual seed\n",
    "mdp.numx.random.seed(1)\n",
    "np.random.seed(2)\n",
    "torch.manual_seed(1)"
   ]
  },
  {
   "cell_type": "markdown",
   "metadata": {},
   "source": [
    "### Load the Dataset"
   ]
  },
  {
   "cell_type": "code",
   "execution_count": 4,
   "metadata": {},
   "outputs": [],
   "source": [
    "# NARMA30 dataset\n",
    "narma10_train_dataset = NARMADataset(train_sample_length, n_train_samples, system_order=10, seed=1)\n",
    "narma10_test_dataset = NARMADataset(test_sample_length, n_test_samples, system_order=10, seed=10)\n",
    "\n",
    "# Data loader\n",
    "trainloader = DataLoader(narma10_train_dataset, batch_size=batch_size, shuffle=False, num_workers=2)\n",
    "testloader = DataLoader(narma10_test_dataset, batch_size=batch_size, shuffle=False, num_workers=2)"
   ]
  },
  {
   "cell_type": "markdown",
   "metadata": {},
   "source": [
    "### LSTM Benchmark"
   ]
  },
  {
   "cell_type": "code",
   "execution_count": 165,
   "metadata": {},
   "outputs": [],
   "source": [
    "class LSTM(nn.Module):\n",
    "    def __init__(self, input_size=1, hidden_layer_size=n_hidden, output_size=1):\n",
    "        super().__init__()\n",
    "        \n",
    "        # assign the hidden layer size\n",
    "        self.hidden_layer_size = hidden_layer_size\n",
    "        \n",
    "        # generate the LSTM unit\n",
    "        self.lstm = nn.LSTM(input_size, hidden_layer_size)\n",
    "        \n",
    "        # generate the output unit\n",
    "        self.linear = nn.Linear(hidden_layer_size, output_size)\n",
    "        \n",
    "        # generate the hidden cell\n",
    "        self.hidden_cell = (torch.zeros(1,1,self.hidden_layer_size), \n",
    "                            torch.zeros(1,1,self.hidden_layer_size))\n",
    "        \n",
    "    def forward(self, input_seq):\n",
    "        \n",
    "        # lstm takes input seq, passed through the lstm layer, outputting hidden and cell states\n",
    "        lstm_out, self.hidden_cell = self.lstm(input_seq.view(len(input_seq), 1, -1), self.hidden_cell)\n",
    "        \n",
    "        predictions = self.linear(lstm_out.view(len(input_seq), -1))\n",
    "        \n",
    "        return predictions[-1]\n",
    "        "
   ]
  },
  {
   "cell_type": "code",
   "execution_count": 166,
   "metadata": {},
   "outputs": [
    {
     "name": "stdout",
     "output_type": "stream",
     "text": [
      "LSTM(\n",
      "  (lstm): LSTM(1, 100)\n",
      "  (linear): Linear(in_features=100, out_features=1, bias=True)\n",
      ")\n"
     ]
    }
   ],
   "source": [
    "model = LSTM()\n",
    "loss_function = nn.MSELoss()\n",
    "optimizer = torch.optim.Adam(model.parameters(), lr=0.001)\n",
    "print(model)"
   ]
  },
  {
   "cell_type": "code",
   "execution_count": 167,
   "metadata": {},
   "outputs": [],
   "source": [
    "train_window = 12"
   ]
  },
  {
   "cell_type": "code",
   "execution_count": 168,
   "metadata": {},
   "outputs": [],
   "source": [
    "def create_inout_sequences(input_data, tw):\n",
    "    inout_seq = []\n",
    "    L = len(input_data)\n",
    "    for i in range(L - tw):\n",
    "        train_seq = input_data[i:i+tw]\n",
    "        train_label = input_data[i+tw:i+tw+1]\n",
    "        inout_seq.append((train_seq, train_label))\n",
    "    return inout_seq"
   ]
  },
  {
   "cell_type": "code",
   "execution_count": 169,
   "metadata": {},
   "outputs": [],
   "source": [
    "train_inout_seq = (create_inout_sequences(inputs.view(-1,1,1), train_window))"
   ]
  },
  {
   "cell_type": "code",
   "execution_count": 128,
   "metadata": {},
   "outputs": [
    {
     "name": "stderr",
     "output_type": "stream",
     "text": [
      "/home/faried/miniconda3/lib/python3.7/site-packages/torch/nn/modules/loss.py:432: UserWarning: Using a target size (torch.Size([1, 1])) that is different to the input size (torch.Size([1])). This will likely lead to incorrect results due to broadcasting. Please ensure they have the same size.\n",
      "  return F.mse_loss(input, target, reduction=self.reduction)\n"
     ]
    }
   ],
   "source": [
    "epochs = 10\n",
    "# iterate over epochs\n",
    "for i in range(epochs):\n",
    "    \n",
    "    # iterate over the training set\n",
    "    for data in trainloader:\n",
    "        \n",
    "        # get the inputs\n",
    "        inputs, targets = data\n",
    "        \n",
    "        # reshape the inputs for training\n",
    "        inputs = inputs.view(-1,1,1)\n",
    "        targets = targets.view(-1,1,1)\n",
    "        \n",
    "        for i in range(len(inputs)):\n",
    "            \n",
    "            # current step \n",
    "            input_current = inputs[i]   \n",
    "            target_current = targets[i]\n",
    "            \n",
    "            # zero the optimizer gradients\n",
    "            optimizer.zero_grad()\n",
    "\n",
    "            # get the hidden cell\n",
    "            model.hidden_cell = (torch.zeros(1,1, model.hidden_layer_size),\n",
    "                                 torch.zeros(1,1, model.hidden_layer_size))\n",
    "\n",
    "            # generate predictions\n",
    "            y_pred = model(input_current)\n",
    "\n",
    "            # generate loss\n",
    "            single_loss = loss_function(y_pred, target_current)\n",
    "            single_loss.backward()\n",
    "            optimizer.step()\n",
    "    \n",
    "    if i % 25 == 1:\n",
    "        print(f'epoch: {i:3} loss {single_loss.item():10.8f}')\n",
    "        \n"
   ]
  },
  {
   "cell_type": "code",
   "execution_count": null,
   "metadata": {},
   "outputs": [
    {
     "name": "stderr",
     "output_type": "stream",
     "text": [
      "/home/faried/miniconda3/lib/python3.7/site-packages/torch/nn/modules/loss.py:432: UserWarning: Using a target size (torch.Size([1, 1, 1])) that is different to the input size (torch.Size([1])). This will likely lead to incorrect results due to broadcasting. Please ensure they have the same size.\n",
      "  return F.mse_loss(input, target, reduction=self.reduction)\n"
     ]
    },
    {
     "name": "stdout",
     "output_type": "stream",
     "text": [
      "Epoch: 0, Loss: 0.05600110\n",
      "Epoch: 1, Loss: 0.05274370\n",
      "Epoch: 2, Loss: 0.05041252\n",
      "Epoch: 3, Loss: 0.04862821\n",
      "Epoch: 4, Loss: 0.04706144\n",
      "Epoch: 5, Loss: 0.04601520\n"
     ]
    }
   ],
   "source": [
    "epochs = 10\n",
    "\n",
    "for i in range(epochs):\n",
    "    for seq, labels in train_inout_seq:\n",
    "        optimizer.zero_grad()\n",
    "        model.hidden_cell = (torch.zeros(1,1, model.hidden_layer_size),\n",
    "                             torch.zeros(1,1, model.hidden_layer_size))\n",
    "        y_pred = model(seq)\n",
    "        \n",
    "        single_loss = loss_function(y_pred, labels)\n",
    "        single_loss.backward()\n",
    "        optimizer.step()\n",
    "    \n",
    "    print(f'Epoch: {i}, Loss: {single_loss.item():10.8f}')"
   ]
  },
  {
   "cell_type": "code",
   "execution_count": 157,
   "metadata": {},
   "outputs": [],
   "source": [
    "test_tw = create_inout_sequences(test_u, train_window)"
   ]
  },
  {
   "cell_type": "markdown",
   "metadata": {},
   "source": [
    "### Define the Hidden Network"
   ]
  },
  {
   "cell_type": "code",
   "execution_count": 9,
   "metadata": {},
   "outputs": [],
   "source": [
    "# ESN cell\n",
    "esn = etnn.LiESN(input_dim=input_dim, hidden_dim=n_hidden, output_dim=1, spectral_radius=spectral_radius, learning_algo='inv', leaky_rate=leaky_rate)\n",
    "if use_cuda:\n",
    "    esn.cuda()"
   ]
  },
  {
   "cell_type": "code",
   "execution_count": 11,
   "metadata": {},
   "outputs": [],
   "source": [
    "# For each batch\n",
    "for data in trainloader:\n",
    "    # Inputs and outputs\n",
    "    inputs, targets = data\n",
    "\n",
    "    # To variable\n",
    "    inputs, targets = Variable(inputs), Variable(targets)\n",
    "    if use_cuda: inputs, targets = inputs.cuda(), targets.cuda()\n",
    "\n",
    "    # Accumulate xTx and xTy\n",
    "    esn(inputs, targets)\n",
    "\n",
    "esn.finalize()"
   ]
  },
  {
   "cell_type": "markdown",
   "metadata": {},
   "source": [
    "## Get MSE"
   ]
  },
  {
   "cell_type": "code",
   "execution_count": 12,
   "metadata": {},
   "outputs": [
    {
     "name": "stdout",
     "output_type": "stream",
     "text": [
      "Train MSE: 0.004655277822166681\n",
      "Test NRMSE: 0.6365268862860002\n",
      "\n"
     ]
    }
   ],
   "source": [
    "# Train MSE\n",
    "dataiter = iter(trainloader)\n",
    "train_u, train_y = dataiter.next()\n",
    "train_u, train_y = Variable(train_u), Variable(train_y)\n",
    "if use_cuda: train_u, train_y = train_u.cuda(), train_y.cuda()\n",
    "y_predicted = esn(train_u)\n",
    "print(u\"Train MSE: {}\".format(echotorch.utils.mse(y_predicted.data, train_y.data)))\n",
    "print(u\"Train NRMSE: {}\".format(echotorch.utils.nrmse(y_predicted.data, train_y.data)))\n",
    "print(u\"\")"
   ]
  },
  {
   "cell_type": "code",
   "execution_count": 123,
   "metadata": {},
   "outputs": [],
   "source": [
    "model.eval()\n",
    "\n",
    "dataiter = iter(trainloader)\n",
    "train_u, train_y = dataiter.next()\n",
    "train_u, train_y = Variable(train_u), Variable(train_y)\n",
    "# reshape the inputs for training\n",
    "# reshape the inputs for training\n",
    "inputs = train_u.view(1,1,-1)\n",
    "targets = train_y.view(1,1,-1)\n",
    "y_preds = []\n",
    "\n",
    "for i in range(20, len(inputs)):\n",
    "\n",
    "    # current step \n",
    "    input_current = inputs[i]   \n",
    "    y_preds.append(model(input_current))\n",
    "    #target_current = targets[i]"
   ]
  },
  {
   "cell_type": "code",
   "execution_count": 124,
   "metadata": {},
   "outputs": [
    {
     "data": {
      "text/plain": [
       "0"
      ]
     },
     "execution_count": 124,
     "metadata": {},
     "output_type": "execute_result"
    }
   ],
   "source": [
    "len(y_preds)"
   ]
  },
  {
   "cell_type": "code",
   "execution_count": 83,
   "metadata": {},
   "outputs": [
    {
     "ename": "NameError",
     "evalue": "name 'esn' is not defined",
     "output_type": "error",
     "traceback": [
      "\u001b[0;31m---------------------------------------------------------------------------\u001b[0m",
      "\u001b[0;31mNameError\u001b[0m                                 Traceback (most recent call last)",
      "\u001b[0;32m<ipython-input-83-fdf1dd260324>\u001b[0m in \u001b[0;36m<module>\u001b[0;34m\u001b[0m\n\u001b[1;32m      4\u001b[0m \u001b[0mtest_u\u001b[0m\u001b[0;34m,\u001b[0m \u001b[0mtest_y\u001b[0m \u001b[0;34m=\u001b[0m \u001b[0mVariable\u001b[0m\u001b[0;34m(\u001b[0m\u001b[0mtest_u\u001b[0m\u001b[0;34m)\u001b[0m\u001b[0;34m,\u001b[0m \u001b[0mVariable\u001b[0m\u001b[0;34m(\u001b[0m\u001b[0mtest_y\u001b[0m\u001b[0;34m)\u001b[0m\u001b[0;34m\u001b[0m\u001b[0;34m\u001b[0m\u001b[0m\n\u001b[1;32m      5\u001b[0m \u001b[0;32mif\u001b[0m \u001b[0muse_cuda\u001b[0m\u001b[0;34m:\u001b[0m \u001b[0mtest_u\u001b[0m\u001b[0;34m,\u001b[0m \u001b[0mtest_y\u001b[0m \u001b[0;34m=\u001b[0m \u001b[0mtest_u\u001b[0m\u001b[0;34m.\u001b[0m\u001b[0mcuda\u001b[0m\u001b[0;34m(\u001b[0m\u001b[0;34m)\u001b[0m\u001b[0;34m,\u001b[0m \u001b[0mtest_y\u001b[0m\u001b[0;34m.\u001b[0m\u001b[0mcuda\u001b[0m\u001b[0;34m(\u001b[0m\u001b[0;34m)\u001b[0m\u001b[0;34m\u001b[0m\u001b[0;34m\u001b[0m\u001b[0m\n\u001b[0;32m----> 6\u001b[0;31m \u001b[0my_predicted\u001b[0m \u001b[0;34m=\u001b[0m \u001b[0mesn\u001b[0m\u001b[0;34m(\u001b[0m\u001b[0mtest_u\u001b[0m\u001b[0;34m)\u001b[0m\u001b[0;34m\u001b[0m\u001b[0;34m\u001b[0m\u001b[0m\n\u001b[0m\u001b[1;32m      7\u001b[0m \u001b[0mprint\u001b[0m\u001b[0;34m(\u001b[0m\u001b[0;34mu\"Test MSE: {}\"\u001b[0m\u001b[0;34m.\u001b[0m\u001b[0mformat\u001b[0m\u001b[0;34m(\u001b[0m\u001b[0mechotorch\u001b[0m\u001b[0;34m.\u001b[0m\u001b[0mutils\u001b[0m\u001b[0;34m.\u001b[0m\u001b[0mmse\u001b[0m\u001b[0;34m(\u001b[0m\u001b[0my_predicted\u001b[0m\u001b[0;34m.\u001b[0m\u001b[0mdata\u001b[0m\u001b[0;34m,\u001b[0m \u001b[0mtest_y\u001b[0m\u001b[0;34m.\u001b[0m\u001b[0mdata\u001b[0m\u001b[0;34m)\u001b[0m\u001b[0;34m)\u001b[0m\u001b[0;34m)\u001b[0m\u001b[0;34m\u001b[0m\u001b[0;34m\u001b[0m\u001b[0m\n\u001b[1;32m      8\u001b[0m \u001b[0mprint\u001b[0m\u001b[0;34m(\u001b[0m\u001b[0;34mu\"Test NRMSE: {}\"\u001b[0m\u001b[0;34m.\u001b[0m\u001b[0mformat\u001b[0m\u001b[0;34m(\u001b[0m\u001b[0mechotorch\u001b[0m\u001b[0;34m.\u001b[0m\u001b[0mutils\u001b[0m\u001b[0;34m.\u001b[0m\u001b[0mnrmse\u001b[0m\u001b[0;34m(\u001b[0m\u001b[0my_predicted\u001b[0m\u001b[0;34m.\u001b[0m\u001b[0mdata\u001b[0m\u001b[0;34m,\u001b[0m \u001b[0mtest_y\u001b[0m\u001b[0;34m.\u001b[0m\u001b[0mdata\u001b[0m\u001b[0;34m)\u001b[0m\u001b[0;34m)\u001b[0m\u001b[0;34m)\u001b[0m\u001b[0;34m\u001b[0m\u001b[0;34m\u001b[0m\u001b[0m\n",
      "\u001b[0;31mNameError\u001b[0m: name 'esn' is not defined"
     ]
    }
   ],
   "source": [
    "# Test MSE\n",
    "dataiter = iter(testloader)\n",
    "test_u, test_y = dataiter.next()\n",
    "test_u, test_y = Variable(test_u), Variable(test_y)\n",
    "if use_cuda: test_u, test_y = test_u.cuda(), test_y.cuda()\n",
    "y_predicted = esn(test_u)\n",
    "print(u\"Test MSE: {}\".format(echotorch.utils.mse(y_predicted.data, test_y.data)))\n",
    "print(u\"Test NRMSE: {}\".format(echotorch.utils.nrmse(y_predicted.data, test_y.data)))\n",
    "print(u\"\")"
   ]
  },
  {
   "cell_type": "code",
   "execution_count": 158,
   "metadata": {},
   "outputs": [],
   "source": [
    "model.eval()\n",
    "\n",
    "dataiter = iter(testloader)\n",
    "test_u, test_y = dataiter.next()\n",
    "test_u, test_y = Variable(test_u), Variable(test_y)\n",
    "# reshape the inputs for training\n",
    "test_u = test_u.view(-1,1,1)\n",
    "test_y = test_y.view(-1,1,1)\n",
    "y_predicted = []\n",
    "\n",
    "for i in range(train_window, len(test_u)):\n",
    "    # current step \n",
    "    seq = torch.FloatTensor(test_u[i-train_window:i])   \n",
    "    with torch.no_grad():\n",
    "        model.hidden = (torch.zeros(1,1,model.hidden_layer_size),\n",
    "                        torch.zeros(1,1,model.hidden_layer_size))\n",
    "        y_predicted.append(model(seq).item())\n",
    "    \n",
    "#print(u\"Test MSE: {}\".format(echotorch.utils.mse(torch.FloatTensor(y_predicted), test_y.data)))\n",
    "#print(u\"Test NRMSE: {}\".format(echotorch.utils.nrmse(torch.FloatTensor(y_predicted), test_y.data)))"
   ]
  },
  {
   "cell_type": "code",
   "execution_count": 161,
   "metadata": {},
   "outputs": [
    {
     "data": {
      "text/plain": [
       "988"
      ]
     },
     "execution_count": 161,
     "metadata": {},
     "output_type": "execute_result"
    }
   ],
   "source": [
    "len(y_predicted)"
   ]
  },
  {
   "cell_type": "code",
   "execution_count": 14,
   "metadata": {},
   "outputs": [
    {
     "data": {
      "image/png": "[encoded data removed]",
      "text/plain": [
       "<Figure size 432x288 with 1 Axes>"
      ]
     },
     "metadata": {
      "needs_background": "light"
     },
     "output_type": "display_data"
    }
   ],
   "source": [
    "flattened_predictions = y_predicted.flatten()\n",
    "flattened_true = test_y.flatten()\n",
    "plt.plot(flattened_predictions)\n",
    "plt.plot(flattened_true)\n",
    "plt.show()"
   ]
  },
  {
   "cell_type": "code",
   "execution_count": 97,
   "metadata": {},
   "outputs": [
    {
     "data": {
      "text/plain": [
       "1000"
      ]
     },
     "execution_count": 97,
     "metadata": {},
     "output_type": "execute_result"
    }
   ],
   "source": [
    "len(y_predicted)"
   ]
  },
  {
   "cell_type": "code",
   "execution_count": 162,
   "metadata": {},
   "outputs": [
    {
     "data": {
      "image/png": "[encoded data removed]",
      "text/plain": [
       "<Figure size 432x288 with 1 Axes>"
      ]
     },
     "metadata": {
      "needs_background": "light"
     },
     "output_type": "display_data"
    }
   ],
   "source": [
    "plt.plot(y_predicted)\n",
    "#flattened_true = test_y.flatten()\n",
    "#plt.plot(flattened_true)\n",
    "plt.show()"
   ]
  },
  {
   "cell_type": "code",
   "execution_count": null,
   "metadata": {},
   "outputs": [],
   "source": []
  }
 ],
 "metadata": {
  "kernelspec": {
   "display_name": "EchoTorch",
   "language": "python",
   "name": "echotorch"
  },
  "language_info": {
   "codemirror_mode": {
    "name": "ipython",
    "version": 3
   },
   "file_extension": ".py",
   "mimetype": "text/x-python",
   "name": "python",
   "nbconvert_exporter": "python",
   "pygments_lexer": "ipython3",
   "version": "3.7.6"
  }
 },
 "nbformat": 4,
 "nbformat_minor": 4
}
